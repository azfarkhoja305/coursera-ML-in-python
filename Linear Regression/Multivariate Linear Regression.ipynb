{
 "cells": [
  {
   "cell_type": "code",
   "execution_count": 1,
   "metadata": {},
   "outputs": [],
   "source": [
    "import numpy as np\n",
    "import matplotlib.pyplot as plt"
   ]
  },
  {
   "cell_type": "code",
   "execution_count": 2,
   "metadata": {},
   "outputs": [
    {
     "data": {
      "text/plain": [
       "(47, 3)"
      ]
     },
     "execution_count": 2,
     "metadata": {},
     "output_type": "execute_result"
    }
   ],
   "source": [
    "data = np.genfromtxt('ex1data2.txt',delimiter=',')\n",
    "data.shape"
   ]
  },
  {
   "cell_type": "code",
   "execution_count": 3,
   "metadata": {},
   "outputs": [
    {
     "data": {
      "text/plain": [
       "47"
      ]
     },
     "execution_count": 3,
     "metadata": {},
     "output_type": "execute_result"
    }
   ],
   "source": [
    "X = data[:,0:-1].reshape(-1,2)\n",
    "y = data[:,-1].reshape(-1,1)\n",
    "m =y.size\n",
    "m"
   ]
  },
  {
   "cell_type": "code",
   "execution_count": 4,
   "metadata": {},
   "outputs": [
    {
     "data": {
      "text/plain": [
       "(array([2000.68085106,    3.17021277]),\n",
       " array([7.86202619e+02, 7.52842809e-01]))"
      ]
     },
     "execution_count": 4,
     "metadata": {},
     "output_type": "execute_result"
    }
   ],
   "source": [
    "# Calculating mean and standard deviation for feature normalization\n",
    "mu = np.mean(X,axis=0)\n",
    "sigma = np.std(X,axis=0)\n",
    "mu,sigma"
   ]
  },
  {
   "cell_type": "code",
   "execution_count": 5,
   "metadata": {},
   "outputs": [],
   "source": [
    "# Feature Normalization\n",
    "def fnormalize(X,mu,sigma):\n",
    "    X_norm = np.zeros(X.shape)\n",
    "    for i in range(X.shape[1]):\n",
    "        temp_X = X[:,i]\n",
    "        temp_X = (temp_X-mu[i])/sigma[i]\n",
    "        X_norm[:,i]=temp_X\n",
    "    return X_norm\n"
   ]
  },
  {
   "cell_type": "code",
   "execution_count": 6,
   "metadata": {
    "scrolled": true
   },
   "outputs": [],
   "source": [
    "# Feature Normalization  \n",
    "# Adding a columns of ones to normalized X\n",
    "X_norm = fnormalize(X,mu,sigma)\n",
    "X_norm = np.hstack((np.ones((m,1)),X_norm))\n"
   ]
  },
  {
   "cell_type": "code",
   "execution_count": 7,
   "metadata": {},
   "outputs": [
    {
     "data": {
      "text/plain": [
       "array([[0.],\n",
       "       [0.],\n",
       "       [0.]])"
      ]
     },
     "execution_count": 7,
     "metadata": {},
     "output_type": "execute_result"
    }
   ],
   "source": [
    "# Intializing our parameter vector theta to zeros\n",
    "theta = np.zeros((X_norm.shape[1],1))\n",
    "theta"
   ]
  },
  {
   "cell_type": "code",
   "execution_count": 8,
   "metadata": {},
   "outputs": [],
   "source": [
    "# Cost Function\n",
    "def cost(X,y,theta):\n",
    "    m = np.size(y)\n",
    "    J = (1/(2.0*m))*np.sum(np.power((X.dot(theta)-y),2))\n",
    "    return J"
   ]
  },
  {
   "cell_type": "code",
   "execution_count": 9,
   "metadata": {},
   "outputs": [
    {
     "data": {
      "text/plain": [
       "65591548106.45744"
      ]
     },
     "execution_count": 9,
     "metadata": {},
     "output_type": "execute_result"
    }
   ],
   "source": [
    "# Finding the cost with theta intialized to zeros\n",
    "J = cost(X_norm,y,theta)\n",
    "J"
   ]
  },
  {
   "cell_type": "code",
   "execution_count": 10,
   "metadata": {},
   "outputs": [],
   "source": [
    "# Some Gradient Descent Settings\n",
    "alpha = 0.03\n",
    "num_iters = 400"
   ]
  },
  {
   "cell_type": "code",
   "execution_count": 11,
   "metadata": {},
   "outputs": [],
   "source": [
    "# Gradient Descent\n",
    "def gdescent(X,y,theta,alpha,iters):\n",
    "    X = np.mat(X); y=np.mat(y); theta = np.mat(theta);\n",
    "    m = np.size(y)\n",
    "    J_hist = np.zeros(iters)\n",
    "    for i in range(0,iters):\n",
    "        temp = theta - (alpha/m) * (X.T * (X*theta-y))\n",
    "        theta = temp\n",
    "        J_hist[i]= cost(X,y,theta)\n",
    "        \n",
    "    return np.asarray(theta),J_hist\n"
   ]
  },
  {
   "cell_type": "code",
   "execution_count": 12,
   "metadata": {},
   "outputs": [
    {
     "data": {
      "text/plain": [
       "array([[340410.91897274],\n",
       "       [109162.68848142],\n",
       "       [ -6293.24735132]])"
      ]
     },
     "execution_count": 12,
     "metadata": {},
     "output_type": "execute_result"
    }
   ],
   "source": [
    "# Getting the optimum parameters using gradient descent\n",
    "final_theta,cost_hist = gdescent(X_norm,y,theta\n",
    "                                        ,alpha,num_iters)\n",
    "final_theta"
   ]
  },
  {
   "cell_type": "code",
   "execution_count": 13,
   "metadata": {},
   "outputs": [
    {
     "data": {
      "image/png": "[encoded data removed]",
      "text/plain": [
       "<matplotlib.figure.Figure at 0x7f1a8cedaf10>"
      ]
     },
     "metadata": {},
     "output_type": "display_data"
    }
   ],
   "source": [
    "# Checking whether gradient descent has converged\n",
    "plt.plot(np.arange(1,num_iters+1),cost_hist)\n",
    "plt.xlabel('No. of iterations')\n",
    "plt.ylabel('Cost')\n",
    "plt.show()"
   ]
  },
  {
   "cell_type": "code",
   "execution_count": 14,
   "metadata": {},
   "outputs": [
    {
     "data": {
      "text/plain": [
       "2043315820.8112059"
      ]
     },
     "execution_count": 14,
     "metadata": {},
     "output_type": "execute_result"
    }
   ],
   "source": [
    "# Cost at optimum theta\n",
    "J_final = cost(X_norm,y,final_theta)\n",
    "J_final"
   ]
  },
  {
   "cell_type": "code",
   "execution_count": 15,
   "metadata": {},
   "outputs": [
    {
     "data": {
      "text/plain": [
       "array([[ 1.        , -0.44604386, -0.22609337]])"
      ]
     },
     "execution_count": 15,
     "metadata": {},
     "output_type": "execute_result"
    }
   ],
   "source": [
    "# Price Prediction of a 1650 sq-ft, 3 bedroom house\n",
    "# Pre processing the features\n",
    "tempVal = np.array([1650,3]).reshape(1,-1)\n",
    "tempVal = fnormalize(tempVal,mu,sigma)\n",
    "tempVal = np.hstack((np.ones((1,1)),tempVal))\n",
    "tempVal\n"
   ]
  },
  {
   "cell_type": "code",
   "execution_count": 16,
   "metadata": {},
   "outputs": [
    {
     "name": "stdout",
     "output_type": "stream",
     "text": [
      "Predicted price of a 1650 sq-ft, 3 bedrooms house:\n",
      " $ [[293142.43348541]]\n"
     ]
    }
   ],
   "source": [
    "# Actual Prediction\n",
    "price = tempVal.dot(final_theta)\n",
    "print \"Predicted price of a 1650 sq-ft, 3 bedrooms house:\\n $\",price"
   ]
  }
 ],
 "metadata": {
  "kernelspec": {
   "display_name": "Python 2",
   "language": "python",
   "name": "python2"
  },
  "language_info": {
   "codemirror_mode": {
    "name": "ipython",
    "version": 2
   },
   "file_extension": ".py",
   "mimetype": "text/x-python",
   "name": "python",
   "nbconvert_exporter": "python",
   "pygments_lexer": "ipython2",
   "version": "2.7.14"
  }
 },
 "nbformat": 4,
 "nbformat_minor": 2
}
