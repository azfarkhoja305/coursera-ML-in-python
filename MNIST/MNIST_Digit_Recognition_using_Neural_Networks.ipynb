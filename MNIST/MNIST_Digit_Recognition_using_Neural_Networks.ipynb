{
 "cells": [
  {
   "cell_type": "code",
   "execution_count": 0,
   "metadata": {
    "colab": {
     "autoexec": {
      "startup": false,
      "wait_interval": 0
     }
    },
    "colab_type": "code",
    "id": "5S6MZx176Oe9"
   },
   "outputs": [],
   "source": [
    "from mnist import MNIST\n",
    "import numpy as np\n",
    "import matplotlib.pyplot as plt\n",
    "from scipy.optimize import minimize\n",
    "from scipy.special import expit as sigmoid"
   ]
  },
  {
   "cell_type": "markdown",
   "metadata": {},
   "source": [
    "#### Handwritten Digit classification using the entire MNIST Dataset from http://yann.lecun.com/exdb/mnist/  \n",
    "* The training and the test set consist of 60,000 and 10,000 samples respectively. Each sample is a 28x28 pixel image.  \n",
    "\n",
    "* The data in the files were parsed using [**python-mnist**](https://github.com/sorki/python-mnist)  \n",
    "* There was no preprocessing attempted on the data   \n",
    "* The classification was implemented using a 3 layer neural network with 784 input units, 300 hidden units and 10 output units.  \n",
    "* Due to the enormous processing requirements, this notebook had to be implemented in [Google Colaboratory](https://colab.research.google.com).  \n",
    "* Classification accuracy obtained on the test set: **94.58 %**\n",
    "* Even with 300 units in the hidden layer the network is still suffering from bias\n"
   ]
  },
  {
   "cell_type": "code",
   "execution_count": 0,
   "metadata": {
    "colab": {
     "autoexec": {
      "startup": false,
      "wait_interval": 0
     }
    },
    "colab_type": "code",
    "id": "h11hjhwz6DZW"
   },
   "outputs": [],
   "source": [
    "# Load training data stored in MNIST Format\n",
    "mndata = MNIST()\n",
    "mndata.gz = True\n",
    "images,labels = mndata.load_training()"
   ]
  },
  {
   "cell_type": "code",
   "execution_count": 89,
   "metadata": {
    "colab": {
     "autoexec": {
      "startup": false,
      "wait_interval": 0
     },
     "base_uri": "https://localhost:8080/",
     "height": 35
    },
    "colab_type": "code",
    "executionInfo": {
     "elapsed": 3546,
     "status": "ok",
     "timestamp": 1523091716946,
     "user": {
      "displayName": "Azfar Khoja",
      "photoUrl": "https://lh3.googleusercontent.com/a/default-user=s128",
      "userId": "111093148488097209857"
     },
     "user_tz": -330
    },
    "id": "VhCAT7yy6DZZ",
    "outputId": "c531350e-ec7e-4d68-e121-086b83e8b389"
   },
   "outputs": [
    {
     "data": {
      "text/plain": [
       "(60000, 784)"
      ]
     },
     "execution_count": 89,
     "metadata": {
      "tags": []
     },
     "output_type": "execute_result"
    }
   ],
   "source": [
    "y = np.array(labels)\n",
    "m = y.size\n",
    "X = np.array(images)\n",
    "X.shape"
   ]
  },
  {
   "cell_type": "code",
   "execution_count": 90,
   "metadata": {
    "colab": {
     "autoexec": {
      "startup": false,
      "wait_interval": 0
     },
     "base_uri": "https://localhost:8080/",
     "height": 350
    },
    "colab_type": "code",
    "executionInfo": {
     "elapsed": 3805,
     "status": "ok",
     "timestamp": 1523091720809,
     "user": {
      "displayName": "Azfar Khoja",
      "photoUrl": "https://lh3.googleusercontent.com/a/default-user=s128",
      "userId": "111093148488097209857"
     },
     "user_tz": -330
    },
    "id": "ORyeZCNb6DZd",
    "outputId": "212802d1-0cc9-4765-ccb0-0f1625947cb5"
   },
   "outputs": [
    {
     "data": {
      "image/png": "[encoded data removed]",
      "text/plain": [
       "<matplotlib.figure.Figure at 0x7f287c2f9190>"
      ]
     },
     "metadata": {
      "tags": []
     },
     "output_type": "display_data"
    }
   ],
   "source": [
    "# Plotting 30 random examples from X\n",
    "indices = np.random.randint(0,m,30)\n",
    "\n",
    "fig = plt.figure()\n",
    "for i in range (30):\n",
    "    img = X[indices[i]].reshape(28,28)\n",
    "    fig.add_subplot(5,6,i+1)\n",
    "    plt.imshow(img,cmap='gray')\n",
    "    plt.axis(\"off\")\n",
    "\n",
    "plt.show()"
   ]
  },
  {
   "cell_type": "code",
   "execution_count": 91,
   "metadata": {
    "colab": {
     "autoexec": {
      "startup": false,
      "wait_interval": 0
     },
     "base_uri": "https://localhost:8080/",
     "height": 35
    },
    "colab_type": "code",
    "executionInfo": {
     "elapsed": 1804,
     "status": "ok",
     "timestamp": 1523091722625,
     "user": {
      "displayName": "Azfar Khoja",
      "photoUrl": "https://lh3.googleusercontent.com/a/default-user=s128",
      "userId": "111093148488097209857"
     },
     "user_tz": -330
    },
    "id": "cW_3Qi3m6DZh",
    "outputId": "2044e359-3b52-4b51-bf8a-417c163fb8a3"
   },
   "outputs": [
    {
     "data": {
      "text/plain": [
       "10"
      ]
     },
     "execution_count": 91,
     "metadata": {
      "tags": []
     },
     "output_type": "execute_result"
    }
   ],
   "source": [
    "# Neural Network Parameters\n",
    "ip_size = 784 \n",
    "hidden_size = 300\n",
    "num_labels = np.unique(y).size\n",
    "num_labels"
   ]
  },
  {
   "cell_type": "code",
   "execution_count": 0,
   "metadata": {
    "colab": {
     "autoexec": {
      "startup": false,
      "wait_interval": 0
     }
    },
    "colab_type": "code",
    "id": "holD8NJa6DZk"
   },
   "outputs": [],
   "source": [
    "# Sigmoid Gradient function\n",
    "def sigmoid_grad(x):\n",
    "    g = sigmoid(x)\n",
    "    return (g*(1-g))\n",
    "    "
   ]
  },
  {
   "cell_type": "code",
   "execution_count": 0,
   "metadata": {
    "colab": {
     "autoexec": {
      "startup": false,
      "wait_interval": 0
     }
    },
    "colab_type": "code",
    "id": "U1Tw45IB6DZm"
   },
   "outputs": [],
   "source": [
    "# Cost Function and Gradients\n",
    "# Feedforward the neural network and return the cost in variable J\n",
    "\n",
    "def costFunction(nn_params,i_size,h_size,labels,X,y,lamb):\n",
    "    m = X.shape[0]\n",
    "    # Reshaping the Parameters\n",
    "    Theta1 = nn_params[:h_size*(i_size +1)].reshape(h_size,i_size+1)\n",
    "    Theta2 = nn_params[h_size*(i_size +1):].reshape(labels,h_size+1)\n",
    "    # For training a NN we recode the labels as vectors containing\n",
    "    # only 0 or 1 values\n",
    "    eye_mat = np.eye(labels)\n",
    "    y_mat = eye_mat[:,y]\n",
    "    \n",
    "    # Forward Propagation\n",
    "    X = np.c_[np.ones(m),X]\n",
    "    z2 = X.dot(Theta1.T)\n",
    "    a2 = sigmoid(z2)\n",
    "    a2 = np.c_[np.ones(m),a2]\n",
    "    z3 = a2.dot(Theta2.T)\n",
    "    a3 = sigmoid(z3)\n",
    "    h = a3.T\n",
    "    \n",
    "    # Calculating the cost\n",
    "    J = (-1.0/m)*np.sum(y_mat*np.log(h) + (1-y_mat)*np.log(1-h))\n",
    "    # Adding Regularization Term (Not considering terms that correspond to bias)\n",
    "    J = J + (lamb/(2.0*m)) * (np.sum(Theta1[:,1:]**2)+ np.sum(Theta2[:,1:]**2))\n",
    "    \n",
    "    # Backpropagation\n",
    "    delta3 = h-y_mat\n",
    "    delta2 = ((Theta2[:,1:].T).dot(delta3)) * sigmoid_grad(z2.T)\n",
    "    Acc_D2 = delta3.dot(a2)\n",
    "    Acc_D1 = delta2.dot(X)\n",
    "    \n",
    "    # Gradients\n",
    "    Theta2_grad = (1.0/m) * Acc_D2 \n",
    "    Theta1_grad = (1.0/m) * Acc_D1\n",
    "    # Adding Regularization Term (Not considering terms that correspond to bias)\n",
    "    reg_term2 = np.c_[np.zeros(Theta2.shape[0]),Theta2[:,1:]]\n",
    "    Theta2_grad = Theta2_grad + (lamb/float(m)) * reg_term2\n",
    "    \n",
    "    reg_term1 = np.c_[np.zeros(Theta1.shape[0]),Theta1[:,1:]]\n",
    "    Theta1_grad = Theta1_grad + (lamb/float(m)) * reg_term1\n",
    "    \n",
    "    # Unrolling the gradients into a vector\n",
    "    grad = np.append(Theta1_grad,Theta2_grad)\n",
    "    \n",
    "    return J,grad"
   ]
  },
  {
   "cell_type": "code",
   "execution_count": 94,
   "metadata": {
    "colab": {
     "autoexec": {
      "startup": false,
      "wait_interval": 0
     },
     "base_uri": "https://localhost:8080/",
     "height": 35
    },
    "colab_type": "code",
    "executionInfo": {
     "elapsed": 1563,
     "status": "ok",
     "timestamp": 1523091726924,
     "user": {
      "displayName": "Azfar Khoja",
      "photoUrl": "https://lh3.googleusercontent.com/a/default-user=s128",
      "userId": "111093148488097209857"
     },
     "user_tz": -330
    },
    "id": "M-AVeNCm6DZp",
    "outputId": "35e3bc95-9043-4742-d7d7-1c0678988f1a"
   },
   "outputs": [
    {
     "data": {
      "text/plain": [
       "((300, 785), (10, 301))"
      ]
     },
     "execution_count": 94,
     "metadata": {
      "tags": []
     },
     "output_type": "execute_result"
    }
   ],
   "source": [
    "# Random Intialization of weights for symmetry breaking\n",
    "e_init = np.sqrt(6)/np.sqrt(ip_size + num_labels)\n",
    "e_init = round(e_init,3)\n",
    "T1 = np.random.rand(hidden_size,ip_size+1) * 2*e_init-e_init\n",
    "T2 = np.random.rand(num_labels,hidden_size+1) * 2*e_init-e_init\n",
    "init_params = np.append(T1,T2)  \n",
    "T1.shape,T2.shape"
   ]
  },
  {
   "cell_type": "code",
   "execution_count": 95,
   "metadata": {
    "colab": {
     "autoexec": {
      "startup": false,
      "wait_interval": 0
     },
     "base_uri": "https://localhost:8080/",
     "height": 70
    },
    "colab_type": "code",
    "executionInfo": {
     "elapsed": 4790,
     "status": "ok",
     "timestamp": 1523091731879,
     "user": {
      "displayName": "Azfar Khoja",
      "photoUrl": "https://lh3.googleusercontent.com/a/default-user=s128",
      "userId": "111093148488097209857"
     },
     "user_tz": -330
    },
    "id": "0BIb12as6DZs",
    "outputId": "44c8cfb8-aed6-4bc0-a607-0fc665a8ec11"
   },
   "outputs": [
    {
     "name": "stdout",
     "output_type": "stream",
     "text": [
      "6.9083920867757955\n",
      "[-1.90491029e-04  0.00000000e+00  0.00000000e+00 ...  2.08676256e-01\n",
      "  4.91292336e-01  4.15096166e-01]\n"
     ]
    }
   ],
   "source": [
    "# Cost and Grad with init_params and lambda = 0\n",
    "J,G = costFunction(init_params,ip_size,hidden_size,num_labels,X,y,0)\n",
    "print J\n",
    "print G"
   ]
  },
  {
   "cell_type": "code",
   "execution_count": 96,
   "metadata": {
    "colab": {
     "autoexec": {
      "startup": false,
      "wait_interval": 0
     },
     "base_uri": "https://localhost:8080/",
     "height": 70
    },
    "colab_type": "code",
    "executionInfo": {
     "elapsed": 5111,
     "status": "ok",
     "timestamp": 1523091737002,
     "user": {
      "displayName": "Azfar Khoja",
      "photoUrl": "https://lh3.googleusercontent.com/a/default-user=s128",
      "userId": "111093148488097209857"
     },
     "user_tz": -330
    },
    "id": "sgHuTTk76DZx",
    "outputId": "6c94764f-8be9-4f0d-dbe2-e6809557fd1e"
   },
   "outputs": [
    {
     "name": "stdout",
     "output_type": "stream",
     "text": [
      "6.913393940741709\n",
      "[-1.90491029e-04 -8.40849602e-07  1.03141179e-06 ...  2.08675309e-01\n",
      "  4.91291387e-01  4.15096588e-01]\n"
     ]
    }
   ],
   "source": [
    "# Cost and Grad with init_params and lambda = 1\n",
    "J,G = costFunction(init_params,ip_size,hidden_size,num_labels,X,y,1)\n",
    "print J\n",
    "print G"
   ]
  },
  {
   "cell_type": "code",
   "execution_count": 0,
   "metadata": {
    "colab": {
     "autoexec": {
      "startup": false,
      "wait_interval": 0
     }
    },
    "colab_type": "code",
    "id": "kwDvXoBf6DZz"
   },
   "outputs": [],
   "source": [
    "# Computing Gradient using Numerical Computation\n",
    "def numgrad(theta,args):\n",
    "    m = theta.size\n",
    "    epsilon = 1e-4\n",
    "    numgrad = np.zeros(m)\n",
    "    perturb = np.zeros(m)\n",
    "    for i in range(m):\n",
    "        perturb[i] = epsilon\n",
    "        loss1 = costFunction((theta-perturb),*args)[0] \n",
    "        loss2 = costFunction((theta+perturb),*args)[0]\n",
    "        numgrad[i] = (loss2-loss1)/(2*epsilon);\n",
    "        perturb[i]=0\n",
    "    return numgrad"
   ]
  },
  {
   "cell_type": "code",
   "execution_count": 0,
   "metadata": {
    "colab": {
     "autoexec": {
      "startup": false,
      "wait_interval": 0
     }
    },
    "colab_type": "code",
    "id": "--JKAa8k6DZ3"
   },
   "outputs": [],
   "source": [
    "# Initialize the weights of a layer with fan_in incoming connections and fan_out outgoing connections\n",
    "# using a fixed strategy, this will help in debugging\n",
    "def debugInitialWeights(fan_out,fan_in):\n",
    "    W = np.zeros((fan_out,fan_in +1))\n",
    "    W =(np.sin(np.arange(1,W.size+1))/10).reshape(W.shape)\n",
    "    return W  "
   ]
  },
  {
   "cell_type": "code",
   "execution_count": 0,
   "metadata": {
    "colab": {
     "autoexec": {
      "startup": false,
      "wait_interval": 0
     }
    },
    "colab_type": "code",
    "id": "gTLn6cNY6DZ5"
   },
   "outputs": [],
   "source": [
    "# checkNNGradients  Creates a small neural network to check the backpropagation gradients\n",
    "# It will output the analytical gradients produced by your backprop code and the numerical gradients \n",
    "# (computed using numgrad). These two gradient computations should result in very similar values\n",
    "def checkNNGradients(lamb):\n",
    "    i_size = 3; h_size = 3 ;num_labels = 3; m = 5\n",
    "    # Generating random data\n",
    "    Theta1 = debugInitialWeights(h_size,i_size)\n",
    "    Theta2 = debugInitialWeights(num_labels,h_size)\n",
    "    X = debugInitialWeights(m,i_size-1)\n",
    "    y = np.mod(np.arange(m),num_labels)\n",
    "    # Unroll parameters\n",
    "    nn_params = np.append(Theta1,Theta2)\n",
    "    \n",
    "    args = i_size,h_size,num_labels,X,y,lamb\n",
    "    G1 = costFunction(nn_params,*args)[1]\n",
    "    G2 = numgrad(nn_params,args)\n",
    "    print \"The two columns below should be very similar\"\n",
    "    print \"(Left-Backprop Gradients, Right-Numerical Gradient)\"\n",
    "    print np.c_[G1[:,np.newaxis],G2[:,np.newaxis]]\n",
    "    print \"The difference is less than 1e-9: %s\" % np.allclose(G1,G2,rtol=1e-9,atol=1e-9)\n",
    "    "
   ]
  },
  {
   "cell_type": "code",
   "execution_count": 100,
   "metadata": {
    "colab": {
     "autoexec": {
      "startup": false,
      "wait_interval": 0
     },
     "base_uri": "https://localhost:8080/",
     "height": 495
    },
    "colab_type": "code",
    "executionInfo": {
     "elapsed": 1223,
     "status": "ok",
     "timestamp": 1523091743347,
     "user": {
      "displayName": "Azfar Khoja",
      "photoUrl": "https://lh3.googleusercontent.com/a/default-user=s128",
      "userId": "111093148488097209857"
     },
     "user_tz": -330
    },
    "id": "03ATEAaA6DZ9",
    "outputId": "9824f538-0734-42c4-aba9-fca42a3f264a"
   },
   "outputs": [
    {
     "name": "stdout",
     "output_type": "stream",
     "text": [
      "The two columns below should be very similar\n",
      "(Left-Backprop Gradients, Right-Numerical Gradient)\n",
      "[[-1.67407607e-03 -1.67407607e-03]\n",
      " [ 2.01559293e-05  2.01559280e-05]\n",
      " [ 3.49877111e-04  3.49877107e-04]\n",
      " [ 3.57922891e-04  3.57922894e-04]\n",
      " [-5.13333018e-03 -5.13333017e-03]\n",
      " [ 3.90290328e-04  3.90290325e-04]\n",
      " [ 4.49087678e-04  4.49087676e-04]\n",
      " [ 9.49958883e-05  9.49958867e-05]\n",
      " [-3.88117379e-03 -3.88117379e-03]\n",
      " [ 4.02480309e-04  4.02480309e-04]\n",
      " [ 1.36027964e-04  1.36027964e-04]\n",
      " [-2.55487864e-04 -2.55487866e-04]\n",
      " [ 1.24904785e-01  1.24904785e-01]\n",
      " [ 6.49053029e-02  6.49053029e-02]\n",
      " [ 5.99422224e-02  5.99422224e-02]\n",
      " [ 6.32813548e-02  6.32813547e-02]\n",
      " [ 9.28155988e-02  9.28155988e-02]\n",
      " [ 4.87480585e-02  4.87480585e-02]\n",
      " [ 4.41460450e-02  4.41460450e-02]\n",
      " [ 4.70247564e-02  4.70247564e-02]\n",
      " [ 2.84472304e-01  2.84472304e-01]\n",
      " [ 1.48101428e-01  1.48101428e-01]\n",
      " [ 1.35184382e-01  1.35184382e-01]\n",
      " [ 1.45593145e-01  1.45593145e-01]]\n",
      "The difference is less than 1e-9: True\n"
     ]
    }
   ],
   "source": [
    "# Checking Backprop w/o Regularization\n",
    "checkNNGradients(lamb = 0)"
   ]
  },
  {
   "cell_type": "code",
   "execution_count": 101,
   "metadata": {
    "colab": {
     "autoexec": {
      "startup": false,
      "wait_interval": 0
     },
     "base_uri": "https://localhost:8080/",
     "height": 495
    },
    "colab_type": "code",
    "executionInfo": {
     "elapsed": 1224,
     "status": "ok",
     "timestamp": 1523091744624,
     "user": {
      "displayName": "Azfar Khoja",
      "photoUrl": "https://lh3.googleusercontent.com/a/default-user=s128",
      "userId": "111093148488097209857"
     },
     "user_tz": -330
    },
    "id": "R0fm_LeM6DaB",
    "outputId": "12d054e3-3113-4854-f5b5-878d497c7ce3"
   },
   "outputs": [
    {
     "name": "stdout",
     "output_type": "stream",
     "text": [
      "The two columns below should be very similar\n",
      "(Left-Backprop Gradients, Right-Numerical Gradient)\n",
      "[[-0.00167408 -0.00167408]\n",
      " [ 0.03639205  0.03639205]\n",
      " [ 0.00599468  0.00599468]\n",
      " [-0.02991418 -0.02991418]\n",
      " [-0.00513333 -0.00513333]\n",
      " [-0.01078633 -0.01078633]\n",
      " [ 0.02672855  0.02672855]\n",
      " [ 0.03966933  0.03966933]\n",
      " [-0.00388117 -0.00388117]\n",
      " [-0.02135836 -0.02135836]\n",
      " [-0.03986358 -0.03986358]\n",
      " [-0.0217184  -0.0217184 ]\n",
      " [ 0.12490479  0.12490479]\n",
      " [ 0.1012772   0.1012772 ]\n",
      " [ 0.06558702  0.06558702]\n",
      " [ 0.03300925  0.03300925]\n",
      " [ 0.0928156   0.0928156 ]\n",
      " [ 0.03757144  0.03757144]\n",
      " [ 0.07042551  0.07042551]\n",
      " [ 0.08659909  0.08659909]\n",
      " [ 0.2844723   0.2844723 ]\n",
      " [ 0.12634058  0.12634058]\n",
      " [ 0.09518477  0.09518477]\n",
      " [ 0.12413023  0.12413023]]\n",
      "The difference is less than 1e-9: True\n"
     ]
    }
   ],
   "source": [
    "# Checking Backprop with Regularization\n",
    "checkNNGradients(lamb = 2)"
   ]
  },
  {
   "cell_type": "code",
   "execution_count": 0,
   "metadata": {
    "colab": {
     "autoexec": {
      "startup": false,
      "wait_interval": 0
     }
    },
    "colab_type": "code",
    "id": "gudWtz5p6DaE"
   },
   "outputs": [],
   "source": [
    "# Optimizing the parameters theta using scipy.optimize \n",
    "def find_min(init_theta,par):\n",
    "    res = minimize(costFunction,init_theta,args=(par),method = 'CG',jac = True\n",
    "               ,options={'maxiter':200,'disp':True})  \n",
    "    return res.x\n"
   ]
  },
  {
   "cell_type": "code",
   "execution_count": 103,
   "metadata": {
    "colab": {
     "autoexec": {
      "startup": false,
      "wait_interval": 0
     },
     "base_uri": "https://localhost:8080/",
     "height": 141
    },
    "colab_type": "code",
    "executionInfo": {
     "elapsed": 950816,
     "status": "ok",
     "timestamp": 1523092697059,
     "user": {
      "displayName": "Azfar Khoja",
      "photoUrl": "https://lh3.googleusercontent.com/a/default-user=s128",
      "userId": "111093148488097209857"
     },
     "user_tz": -330
    },
    "id": "Dy-0FQeI6DaH",
    "outputId": "a5f20552-6876-4383-fa29-767fc14e32f1"
   },
   "outputs": [
    {
     "name": "stdout",
     "output_type": "stream",
     "text": [
      "Warning: Maximum number of iterations has been exceeded.\n",
      "         Current function value: 0.241118\n",
      "         Iterations: 200\n",
      "         Function evaluations: 256\n",
      "         Gradient evaluations: 256\n",
      "CPU times: user 26min 12s, sys: 1min 46s, total: 27min 58s\n",
      "Wall time: 15min 49s\n"
     ]
    }
   ],
   "source": [
    "%%time\n",
    "# Training the NN\n",
    "lamb = 0\n",
    "par = ip_size,hidden_size,num_labels,X,y,lamb\n",
    "final_params = find_min(init_params,par)"
   ]
  },
  {
   "cell_type": "code",
   "execution_count": 0,
   "metadata": {
    "colab": {
     "autoexec": {
      "startup": false,
      "wait_interval": 0
     }
    },
    "colab_type": "code",
    "id": "ES9P10j26DaK"
   },
   "outputs": [],
   "source": [
    "# Obtaining Theta1_final and Theta2_final from final_params\n",
    "Theta1_final = final_params[:hidden_size*(ip_size +1)].reshape(hidden_size,ip_size+1)\n",
    "Theta2_final = final_params[hidden_size*(ip_size +1):].reshape(num_labels,hidden_size+1)"
   ]
  },
  {
   "cell_type": "code",
   "execution_count": 0,
   "metadata": {
    "colab": {
     "autoexec": {
      "startup": false,
      "wait_interval": 0
     }
    },
    "colab_type": "code",
    "id": "UVYLtVye6DaM"
   },
   "outputs": [],
   "source": [
    "# Load testing data stored in MNIST Format\n",
    "mndata2 = MNIST()\n",
    "mndata2.gz = True\n",
    "images_test,labels_test = mndata2.load_testing()"
   ]
  },
  {
   "cell_type": "code",
   "execution_count": 106,
   "metadata": {
    "colab": {
     "autoexec": {
      "startup": false,
      "wait_interval": 0
     },
     "base_uri": "https://localhost:8080/",
     "height": 35
    },
    "colab_type": "code",
    "executionInfo": {
     "elapsed": 1673,
     "status": "ok",
     "timestamp": 1523092701882,
     "user": {
      "displayName": "Azfar Khoja",
      "photoUrl": "https://lh3.googleusercontent.com/a/default-user=s128",
      "userId": "111093148488097209857"
     },
     "user_tz": -330
    },
    "id": "ACmdnDBC6DaO",
    "outputId": "203189f7-b22b-4663-d0e8-06cc1099ec6a"
   },
   "outputs": [
    {
     "data": {
      "text/plain": [
       "(10000, 784)"
      ]
     },
     "execution_count": 106,
     "metadata": {
      "tags": []
     },
     "output_type": "execute_result"
    }
   ],
   "source": [
    "y_test = np.array(labels_test)\n",
    "m_test = y_test.size\n",
    "X_test = np.array(images_test)\n",
    "X_test.shape"
   ]
  },
  {
   "cell_type": "code",
   "execution_count": 0,
   "metadata": {
    "colab": {
     "autoexec": {
      "startup": false,
      "wait_interval": 0
     }
    },
    "colab_type": "code",
    "id": "EvUdZIME6DaT"
   },
   "outputs": [],
   "source": [
    "# Predict the labels\n",
    "def predict(Theta1,Theta2,X):\n",
    "    m = X.shape[0]\n",
    "    X = np.c_[np.ones(m),X]\n",
    "    z2 = X.dot(Theta1.T)\n",
    "    a2 = sigmoid(np.c_[np.ones(m),z2])\n",
    "    z3 = a2.dot(Theta2.T)\n",
    "    h = sigmoid(z3)\n",
    "    p = np.argmax(h,1)\n",
    "    return p "
   ]
  },
  {
   "cell_type": "code",
   "execution_count": 108,
   "metadata": {
    "colab": {
     "autoexec": {
      "startup": false,
      "wait_interval": 0
     },
     "base_uri": "https://localhost:8080/",
     "height": 52
    },
    "colab_type": "code",
    "executionInfo": {
     "elapsed": 2211,
     "status": "ok",
     "timestamp": 1523092705973,
     "user": {
      "displayName": "Azfar Khoja",
      "photoUrl": "https://lh3.googleusercontent.com/a/default-user=s128",
      "userId": "111093148488097209857"
     },
     "user_tz": -330
    },
    "id": "v-dprYqO6DaV",
    "outputId": "b3fd352f-75c2-484b-d7da-aee24de8b452"
   },
   "outputs": [
    {
     "name": "stdout",
     "output_type": "stream",
     "text": [
      "Accuracy on the Test Set 94.58 %\n",
      "NN made errors in predicting 542 samples out of 10000 in the testing set \n"
     ]
    }
   ],
   "source": [
    "# Getting Accuracy on the Test Set\n",
    "y_pred = predict(Theta1_final,Theta2_final,X_test)\n",
    "accuracy = np.mean(y_pred == y_test)*100\n",
    "print \"Accuracy on the Test Set %s %%\" % round(accuracy,3)\n",
    "print \"NN made errors in predicting %s samples out of 10000 in the testing set \" % np.count_nonzero(y_test != y_pred)"
   ]
  },
  {
   "cell_type": "code",
   "execution_count": 109,
   "metadata": {
    "colab": {
     "autoexec": {
      "startup": false,
      "wait_interval": 0
     },
     "base_uri": "https://localhost:8080/",
     "height": 52
    },
    "colab_type": "code",
    "executionInfo": {
     "elapsed": 2776,
     "status": "ok",
     "timestamp": 1523092708796,
     "user": {
      "displayName": "Azfar Khoja",
      "photoUrl": "https://lh3.googleusercontent.com/a/default-user=s128",
      "userId": "111093148488097209857"
     },
     "user_tz": -330
    },
    "id": "OFy6FnR5nXxJ",
    "outputId": "806713ed-039b-47c2-ac6b-5ca7cb94e95a"
   },
   "outputs": [
    {
     "name": "stdout",
     "output_type": "stream",
     "text": [
      "Accuracy on the Training Set 96.74 %\n",
      "NN made errors in predicting 1956 samples out of 60000 in the training set \n"
     ]
    }
   ],
   "source": [
    "# Getting Accuracy on the Training Set\n",
    "y_pred2 = predict(Theta1_final,Theta2_final,X)\n",
    "accuracy2 = np.mean(y_pred2 == y)*100\n",
    "print \"Accuracy on the Training Set %s %%\" % round(accuracy2,3)\n",
    "print \"NN made errors in predicting %s samples out of 60000 in the training set \" % np.count_nonzero(y != y_pred2)"
   ]
  },
  {
   "cell_type": "code",
   "execution_count": 110,
   "metadata": {
    "colab": {
     "autoexec": {
      "startup": false,
      "wait_interval": 0
     },
     "base_uri": "https://localhost:8080/",
     "height": 389
    },
    "colab_type": "code",
    "executionInfo": {
     "elapsed": 4062,
     "status": "ok",
     "timestamp": 1523092712879,
     "user": {
      "displayName": "Azfar Khoja",
      "photoUrl": "https://lh3.googleusercontent.com/a/default-user=s128",
      "userId": "111093148488097209857"
     },
     "user_tz": -330
    },
    "id": "l1F43CuItsCe",
    "outputId": "7a946f0f-f67c-4216-d135-6c6972bff5c8"
   },
   "outputs": [
    {
     "data": {
      "image/png": "[encoded data removed]",
      "text/plain": [
       "<matplotlib.figure.Figure at 0x7f287ed1e5d0>"
      ]
     },
     "metadata": {
      "tags": []
     },
     "output_type": "display_data"
    }
   ],
   "source": [
    "# Plotting 30 random examples from X_test with their predicted labels\n",
    "indices = np.random.randint(0,m_test,30)\n",
    "fig = plt.figure(figsize = (9,6))\n",
    "\n",
    "for i in range (30):\n",
    "    img = X_test[indices[i]].reshape(28,28)\n",
    "    fig.add_subplot(5,6,i+1)    \n",
    "    plt.title(y_pred[indices[i]])\n",
    "    plt.imshow(img,cmap='gray')\n",
    "    plt.axis(\"off\")\n",
    "\n",
    "plt.subplots_adjust(hspace = 0.5)    \n",
    "plt.show()"
   ]
  }
 ],
 "metadata": {
  "accelerator": "GPU",
  "colab": {
   "collapsed_sections": [],
   "default_view": {},
   "name": "MNIST Digit Recognition using Neural Networks.ipynb",
   "provenance": [],
   "version": "0.3.2",
   "views": {}
  },
  "kernelspec": {
   "display_name": "Python 2",
   "language": "python",
   "name": "python2"
  },
  "language_info": {
   "codemirror_mode": {
    "name": "ipython",
    "version": 2
   },
   "file_extension": ".py",
   "mimetype": "text/x-python",
   "name": "python",
   "nbconvert_exporter": "python",
   "pygments_lexer": "ipython2",
   "version": "2.7.14"
  }
 },
 "nbformat": 4,
 "nbformat_minor": 1
}
