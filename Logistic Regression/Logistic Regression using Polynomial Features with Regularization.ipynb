{
 "cells": [
  {
   "cell_type": "code",
   "execution_count": 1,
   "metadata": {},
   "outputs": [],
   "source": [
    "import numpy as np\n",
    "import matplotlib.pyplot as plt\n",
    "from scipy.optimize import minimize\n",
    "from scipy.special import expit as sigmoid \n",
    "# scipy.special has a sigmoid function named expit"
   ]
  },
  {
   "cell_type": "code",
   "execution_count": 2,
   "metadata": {},
   "outputs": [
    {
     "data": {
      "text/plain": [
       "(118, 3)"
      ]
     },
     "execution_count": 2,
     "metadata": {},
     "output_type": "execute_result"
    }
   ],
   "source": [
    "data = np.genfromtxt('ex2data2.txt',delimiter=',')\n",
    "data.shape"
   ]
  },
  {
   "cell_type": "code",
   "execution_count": 3,
   "metadata": {},
   "outputs": [
    {
     "data": {
      "text/plain": [
       "((118, 2), (118,), 118)"
      ]
     },
     "execution_count": 3,
     "metadata": {},
     "output_type": "execute_result"
    }
   ],
   "source": [
    "X = data[:,0:-1]\n",
    "y = data[:,-1]\n",
    "m = y.size\n",
    "X.shape,y.shape,m"
   ]
  },
  {
   "cell_type": "code",
   "execution_count": 4,
   "metadata": {},
   "outputs": [
    {
     "data": {
      "text/plain": [
       "(118, 3)"
      ]
     },
     "execution_count": 4,
     "metadata": {},
     "output_type": "execute_result"
    }
   ],
   "source": [
    "# Adding the intercept term to X\n",
    "X = np.hstack((np.ones((m,1)),X))\n",
    "X.shape"
   ]
  },
  {
   "cell_type": "code",
   "execution_count": 63,
   "metadata": {},
   "outputs": [
    {
     "data": {
      "image/png": "[encoded data removed]",
      "text/plain": [
       "<matplotlib.figure.Figure at 0x7f8d8eae92d0>"
      ]
     },
     "metadata": {},
     "output_type": "display_data"
    }
   ],
   "source": [
    "pos = np.nonzero(y==1)\n",
    "neg = np.nonzero(y==0)\n",
    "plt.figure(figsize=(9,6),dpi=80)\n",
    "plt.scatter(X[pos,1],X[pos,2],c='k',marker='+',label = \"Accepted\")\n",
    "plt.scatter(X[neg,1],X[neg,2],c='y',marker='o',label = \"Rejected\")\n",
    "plt.xlim(xmin = -1,xmax = 1.25)\n",
    "plt.ylim(ymin=-1)\n",
    "plt.xlabel('Microchip Test 1')\n",
    "plt.ylabel('Microchip Test 2')\n",
    "plt.legend(loc='upper right')\n",
    "plt.show()"
   ]
  },
  {
   "cell_type": "code",
   "execution_count": 6,
   "metadata": {},
   "outputs": [
    {
     "data": {
      "text/plain": [
       "(118, 28)"
      ]
     },
     "execution_count": 6,
     "metadata": {},
     "output_type": "execute_result"
    }
   ],
   "source": [
    "# Mapping the two input features to Polynomial Features\n",
    "# The new feature matrix will comprise columns of features such as\n",
    "# X1, X2, X1^2, X2^2, X1*X2, X1*X2^2 etc upto degree 6\n",
    "degree = 6\n",
    "X_new = X.copy()\n",
    "for i in range(2,degree+1):\n",
    "    for j in range(0,i+1):\n",
    "        temp = X[:,1]**(i-j) * X[:,2]**j\n",
    "        X_new = np.hstack((X_new,temp.reshape(-1,1)))\n",
    "        \n",
    "r,c = X_new.shape\n",
    "r,c"
   ]
  },
  {
   "cell_type": "code",
   "execution_count": 7,
   "metadata": {},
   "outputs": [
    {
     "data": {
      "text/plain": [
       "(28,)"
      ]
     },
     "execution_count": 7,
     "metadata": {},
     "output_type": "execute_result"
    }
   ],
   "source": [
    "# Initializing Pararmeter Vector Theta to zeros\n",
    "Theta = np.zeros(c)\n",
    "Theta.shape"
   ]
  },
  {
   "cell_type": "code",
   "execution_count": 8,
   "metadata": {},
   "outputs": [],
   "source": [
    "# Setting the Regularization Parameter lambda to 1\n",
    "lamb =1 "
   ]
  },
  {
   "cell_type": "code",
   "execution_count": 9,
   "metadata": {},
   "outputs": [],
   "source": [
    "# Cost Function and Gradient for Regularized Logistic Regression\n",
    "# Note : We do not regularize Theta[0] (bias term)\n",
    "def costFunction(t,X,y,lamb):\n",
    "    m = np.size(y)\n",
    "    J =  (-1.0/m)*np.sum((y*np.log(sigmoid(X_new.dot(t))) + (1-y) * np.log(1-sigmoid(X_new.dot(t))))) + (\n",
    "         (lamb/(2.0*m)) * sum(t[1:] **2 ))     # Exclude t[0] (bias term)\n",
    "    grad = (1.0/m)*((X_new.T).dot(sigmoid(X_new.dot(t))-y))\n",
    "    grad[1:] = grad[1:] + (float(lamb)/m)* t[1:]     # Exclude t[0] (bias term)              \n",
    "    \n",
    "    \n",
    "    return J,grad  "
   ]
  },
  {
   "cell_type": "code",
   "execution_count": 10,
   "metadata": {},
   "outputs": [
    {
     "name": "stdout",
     "output_type": "stream",
     "text": [
      "Cost:  0.6931471805599454\n",
      "Gradient: \n",
      "[8.47457627e-03 1.87880932e-02 7.77711864e-05 5.03446395e-02\n",
      " 1.15013308e-02]\n"
     ]
    }
   ],
   "source": [
    "# Computing Cost and Gradient with intitial Theta (zeros)\n",
    "cost,G = costFunction(Theta,X,y,lamb)\n",
    "print \"Cost: \", cost\n",
    "print \"Gradient: \"\n",
    "print G[0:5]    # Displaying only first 5 values"
   ]
  },
  {
   "cell_type": "code",
   "execution_count": 11,
   "metadata": {},
   "outputs": [
    {
     "name": "stdout",
     "output_type": "stream",
     "text": [
      "Cost:  3.16450933161501\n",
      "Gradient: \n",
      "[0.34604507 0.16135192 0.19479576 0.22686278 0.09218568]\n"
     ]
    }
   ],
   "source": [
    "#Computing Cost and Gradient with all-ones Theta and lambda = 10\n",
    "test_theta = np.ones(c)\n",
    "cost,G = costFunction(test_theta,X,y,10)\n",
    "print \"Cost: \", cost\n",
    "print \"Gradient: \"\n",
    "print G[0:5]    # Displaying only first 5 values"
   ]
  },
  {
   "cell_type": "code",
   "execution_count": 12,
   "metadata": {
    "scrolled": true
   },
   "outputs": [
    {
     "name": "stdout",
     "output_type": "stream",
     "text": [
      "Optimization terminated successfully.\n",
      "         Current function value: 0.529003\n",
      "         Iterations: 6\n",
      "         Function evaluations: 7\n",
      "         Gradient evaluations: 82\n",
      "         Hessian evaluations: 0\n"
     ]
    }
   ],
   "source": [
    "# Optimizing the parameters theta using scipy.optimize\n",
    "res = minimize(costFunction,Theta,args=(X,y,lamb),method = 'Newton-CG',jac = True\n",
    "               ,options={'disp':True})  "
   ]
  },
  {
   "cell_type": "code",
   "execution_count": 13,
   "metadata": {},
   "outputs": [
    {
     "data": {
      "text/plain": [
       "array([[ 1.27274087],\n",
       "       [ 0.62527111],\n",
       "       [ 1.18108958],\n",
       "       [-2.01996152],\n",
       "       [-0.91742387]])"
      ]
     },
     "execution_count": 13,
     "metadata": {},
     "output_type": "execute_result"
    }
   ],
   "source": [
    "# Displaying a few of the optimized parameters\n",
    "theta_1 = res.x\n",
    "theta_1[0:5,np.newaxis] "
   ]
  },
  {
   "cell_type": "code",
   "execution_count": 14,
   "metadata": {},
   "outputs": [
    {
     "name": "stdout",
     "output_type": "stream",
     "text": [
      "Accuracy on the Training Set 83.05084745762711 %\n"
     ]
    }
   ],
   "source": [
    "# Computing the accuracy of the classifier on the Training Set\n",
    "# probabilities >= 0.5 are considered 1 and the rest 0\n",
    "p = (X_new.dot(theta_1) >= 0)\n",
    "accuracy = np.mean(p == y)*100\n",
    "print \"Accuracy on the Training Set %s %%\" % accuracy"
   ]
  },
  {
   "cell_type": "code",
   "execution_count": 43,
   "metadata": {},
   "outputs": [
    {
     "name": "stdout",
     "output_type": "stream",
     "text": [
      "Optimization terminated successfully.\n",
      "         Current function value: 0.224569\n",
      "         Iterations: 546\n",
      "         Function evaluations: 547\n",
      "         Gradient evaluations: 547\n"
     ]
    }
   ],
   "source": [
    "# Setting the Regularization Parameter lambda to 0 to showcase Overfitting\n",
    "lamb =0\n",
    "res = minimize(costFunction,Theta,args=(X,y,lamb),method = 'BFGS',jac = True\n",
    "               ,options={'disp':True})  \n",
    "theta_0 = res.x"
   ]
  },
  {
   "cell_type": "code",
   "execution_count": 44,
   "metadata": {},
   "outputs": [
    {
     "name": "stdout",
     "output_type": "stream",
     "text": [
      "Accuracy on the Training Set 91.52542372881356 %\n"
     ]
    }
   ],
   "source": [
    "p = (X_new.dot(theta_0) >= 0)\n",
    "accuracy = np.mean(p == y)*100\n",
    "print \"Accuracy on the Training Set %s %%\" % accuracy"
   ]
  },
  {
   "cell_type": "code",
   "execution_count": 50,
   "metadata": {},
   "outputs": [
    {
     "name": "stdout",
     "output_type": "stream",
     "text": [
      "Optimization terminated successfully.\n",
      "         Current function value: 0.686484\n",
      "         Iterations: 3\n",
      "         Function evaluations: 4\n",
      "         Gradient evaluations: 18\n",
      "         Hessian evaluations: 0\n"
     ]
    }
   ],
   "source": [
    "# Setting the Regularization Parameter lambda to 100 to showcase Underfitting\n",
    "\n",
    "lamb =100\n",
    "res = minimize(costFunction,Theta,args=(X,y,lamb),method = 'Newton-CG',jac = True\n",
    "               ,options={'disp':True})  \n",
    "theta_100 = res.x"
   ]
  },
  {
   "cell_type": "code",
   "execution_count": 51,
   "metadata": {
    "scrolled": true
   },
   "outputs": [
    {
     "name": "stdout",
     "output_type": "stream",
     "text": [
      "Accuracy on the Training Set 61.016949152542374 %\n"
     ]
    }
   ],
   "source": [
    "p = (X_new.dot(theta_100) >= 0)\n",
    "accuracy = np.mean(p == y)*100\n",
    "print \"Accuracy on the Training Set %s %%\" % accuracy"
   ]
  },
  {
   "cell_type": "code",
   "execution_count": null,
   "metadata": {},
   "outputs": [],
   "source": []
  }
 ],
 "metadata": {
  "kernelspec": {
   "display_name": "Python 2",
   "language": "python",
   "name": "python2"
  },
  "language_info": {
   "codemirror_mode": {
    "name": "ipython",
    "version": 2
   },
   "file_extension": ".py",
   "mimetype": "text/x-python",
   "name": "python",
   "nbconvert_exporter": "python",
   "pygments_lexer": "ipython2",
   "version": "2.7.14"
  }
 },
 "nbformat": 4,
 "nbformat_minor": 2
}
