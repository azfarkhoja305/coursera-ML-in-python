{
 "cells": [
  {
   "cell_type": "code",
   "execution_count": 1,
   "metadata": {
    "collapsed": true
   },
   "outputs": [],
   "source": [
    "import numpy as np\n",
    "import matplotlib.pyplot as plt\n",
    "from scipy.optimize import minimize\n",
    "from scipy.special import expit as sigmoid"
   ]
  },
  {
   "cell_type": "code",
   "execution_count": 2,
   "metadata": {},
   "outputs": [
    {
     "data": {
      "text/plain": [
       "['labels', 'data']"
      ]
     },
     "execution_count": 2,
     "metadata": {},
     "output_type": "execute_result"
    }
   ],
   "source": [
    "# Loading data stored in numpy format\n",
    "Data = np.load(\"Handwritten_data.npz\")\n",
    "Data.files"
   ]
  },
  {
   "cell_type": "code",
   "execution_count": 3,
   "metadata": {
    "scrolled": true
   },
   "outputs": [
    {
     "data": {
      "text/plain": [
       "((5000, 401), 10)"
      ]
     },
     "execution_count": 3,
     "metadata": {},
     "output_type": "execute_result"
    }
   ],
   "source": [
    "y = Data['labels']\n",
    "m = y.size \n",
    "X = Data['data']\n",
    "# Adding the columns of one for the intercept \n",
    "X = np.c_[np.ones(m),X]\n",
    "\n",
    "num_labels = np.unique(y).size\n",
    "X.shape,num_labels"
   ]
  },
  {
   "cell_type": "code",
   "execution_count": 4,
   "metadata": {},
   "outputs": [
    {
     "data": {
      "image/png": "[encoded data removed]",
      "text/plain": [
       "<matplotlib.figure.Figure at 0x7fcb523cb610>"
      ]
     },
     "metadata": {},
     "output_type": "display_data"
    }
   ],
   "source": [
    "# Plotting 30 random examples from X\n",
    "indices = np.random.randint(0,m,30)\n",
    "\n",
    "fig=plt.figure()\n",
    "for i in range (30):\n",
    "    img = X[indices[i],1:].reshape(20,20,order='F')\n",
    "    fig.add_subplot(5,6,i+1)\n",
    "    plt.imshow(img,cmap='gray')\n",
    "    plt.axis(\"off\")\n",
    "\n",
    "plt.show()"
   ]
  },
  {
   "cell_type": "code",
   "execution_count": 5,
   "metadata": {
    "collapsed": true
   },
   "outputs": [],
   "source": [
    "# Cost Function and Gradient for Regularized Logistic Regression\n",
    "# Note : We do not regularize Theta[0] (bias term)\n",
    "def costFunction(t,X,y,lamb):\n",
    "    m = y.size\n",
    "    h = sigmoid(X.dot(t))\n",
    "    J = ((-1.0/m)*(np.sum(y*np.log(h) + (1-y)*np.log(1-h)))) + ((lamb/(2.0*m)) * sum(t[1:]**2))                         \n",
    "    grad = (1.0/m)*((X.T).dot(h-y))\n",
    "    reg_term = np.r_[0,((lamb/float(m)) * t[1:])]\n",
    "    grad = grad+reg_term\n",
    "  \n",
    "    return J,grad  "
   ]
  },
  {
   "cell_type": "code",
   "execution_count": 6,
   "metadata": {},
   "outputs": [
    {
     "name": "stdout",
     "output_type": "stream",
     "text": [
      "Cost:  2.53481939611\n",
      "Gradient: \n",
      "[ 0.14656137 -0.54855841  0.72472227  1.39800296]\n"
     ]
    }
   ],
   "source": [
    "# Computing the Cost and Gradient on sample values\n",
    "theta_t = np.array([-2,-1,1,2])\n",
    "X_t = np.hstack((np.ones((5,1)),np.arange(1,16).reshape(5,3,order='F')/10.0))\n",
    "y_t = np.array([1,0,1,0,1])\n",
    "lamb_t = 3\n",
    "J,G = costFunction(theta_t,X_t,y_t,lamb_t)\n",
    "print \"Cost: \", J\n",
    "print \"Gradient: \"\n",
    "print G"
   ]
  },
  {
   "cell_type": "code",
   "execution_count": 7,
   "metadata": {
    "collapsed": true
   },
   "outputs": [],
   "source": [
    "# Optimizing the parameters theta using scipy.optimize \n",
    "def find_min(init_theta,X,y,lamb):\n",
    "    res = minimize(costFunction,init_theta,args=(X,y,lamb),method = 'CG',jac = True\n",
    "               ,options={'maxiter':150,'disp':True})  \n",
    "    return res.x"
   ]
  },
  {
   "cell_type": "code",
   "execution_count": 8,
   "metadata": {
    "collapsed": true
   },
   "outputs": [],
   "source": [
    "# oneVsAll trains multiple logistic regression classifiers and returns all\n",
    "# the classifiers in a matrix theta_mat, where the i-th row of theta_mat \n",
    "# corresponds to the classifier for label i\n",
    "def oneVsAll(X,y,num_labels,lamb):\n",
    "    m,n = X.shape\n",
    "    theta_mat = np.empty([num_labels,n])\n",
    "    for i in range(num_labels):\n",
    "        print \"Class: %s\" % i \n",
    "        y_temp = (y == i).astype(int)\n",
    "        init_theta = np.random.rand(n)\n",
    "        init_theta = find_min(init_theta,X,y_temp,lamb)\n",
    "        theta_mat[i,:] = init_theta\n",
    "    return theta_mat\n",
    "        "
   ]
  },
  {
   "cell_type": "code",
   "execution_count": 9,
   "metadata": {
    "scrolled": true
   },
   "outputs": [
    {
     "name": "stdout",
     "output_type": "stream",
     "text": [
      "Class: 0\n"
     ]
    },
    {
     "name": "stderr",
     "output_type": "stream",
     "text": [
      "/home/azfar305/anaconda2/lib/python2.7/site-packages/ipykernel_launcher.py:6: RuntimeWarning: divide by zero encountered in log\n",
      "  \n",
      "/home/azfar305/anaconda2/lib/python2.7/site-packages/ipykernel_launcher.py:6: RuntimeWarning: invalid value encountered in multiply\n",
      "  \n"
     ]
    },
    {
     "name": "stdout",
     "output_type": "stream",
     "text": [
      "Optimization terminated successfully.\n",
      "         Current function value: 0.008569\n",
      "         Iterations: 138\n",
      "         Function evaluations: 545\n",
      "         Gradient evaluations: 545\n",
      "Class: 1\n",
      "Optimization terminated successfully.\n",
      "         Current function value: 0.013116\n",
      "         Iterations: 143\n",
      "         Function evaluations: 567\n",
      "         Gradient evaluations: 567\n",
      "Class: 2\n",
      "Warning: Maximum number of iterations has been exceeded.\n",
      "         Current function value: 0.051055\n",
      "         Iterations: 150\n",
      "         Function evaluations: 475\n",
      "         Gradient evaluations: 475\n",
      "Class: 3\n",
      "Warning: Maximum number of iterations has been exceeded.\n",
      "         Current function value: 0.057909\n",
      "         Iterations: 150\n",
      "         Function evaluations: 448\n",
      "         Gradient evaluations: 448\n",
      "Class: 4\n",
      "Warning: Maximum number of iterations has been exceeded.\n",
      "         Current function value: 0.033132\n",
      "         Iterations: 150\n",
      "         Function evaluations: 513\n",
      "         Gradient evaluations: 513\n",
      "Class: 5\n",
      "Warning: Maximum number of iterations has been exceeded.\n",
      "         Current function value: 0.054718\n",
      "         Iterations: 150\n",
      "         Function evaluations: 462\n",
      "         Gradient evaluations: 462\n",
      "Class: 6\n",
      "Warning: Maximum number of iterations has been exceeded.\n",
      "         Current function value: 0.018261\n",
      "         Iterations: 150\n",
      "         Function evaluations: 565\n",
      "         Gradient evaluations: 565\n",
      "Class: 7\n",
      "Warning: Maximum number of iterations has been exceeded.\n",
      "         Current function value: 0.030691\n",
      "         Iterations: 150\n",
      "         Function evaluations: 523\n",
      "         Gradient evaluations: 523\n",
      "Class: 8\n",
      "Warning: Maximum number of iterations has been exceeded.\n",
      "         Current function value: 0.079183\n",
      "         Iterations: 150\n",
      "         Function evaluations: 415\n",
      "         Gradient evaluations: 415\n",
      "Class: 9\n",
      "Warning: Maximum number of iterations has been exceeded.\n",
      "         Current function value: 0.071517\n",
      "         Iterations: 150\n",
      "         Function evaluations: 436\n",
      "         Gradient evaluations: 436\n"
     ]
    }
   ],
   "source": [
    "# Training One-vs-All Logistic Regression\n",
    "lamb = 0.1\n",
    "theta_mat = oneVsAll(X,y,num_labels,lamb)"
   ]
  },
  {
   "cell_type": "code",
   "execution_count": 10,
   "metadata": {
    "collapsed": true
   },
   "outputs": [],
   "source": [
    "# Predicting labels \n",
    "def predictOneVsAll(X,theta_mat):\n",
    "    \n",
    "    temp = sigmoid(X.dot(theta_mat.T))\n",
    "    label = np.argmax(temp,axis = 1)\n",
    "    return label"
   ]
  },
  {
   "cell_type": "code",
   "execution_count": 11,
   "metadata": {},
   "outputs": [
    {
     "name": "stdout",
     "output_type": "stream",
     "text": [
      "Accuracy on the Training Set 96.32 %\n",
      "Logistic Regression made errors in predicting 184 samples out of 5000 in the training set \n"
     ]
    }
   ],
   "source": [
    "# Predicting Accuracy on the training set\n",
    "y_predict = predictOneVsAll(X,theta_mat)\n",
    "accuracy = np.mean(y == y_predict) *100\n",
    "print \"Accuracy on the Training Set %s %%\" % round(accuracy,2)\n",
    "print \"Logistic Regression made errors in predicting %s samples out of 5000 in the training set \" % np.count_nonzero(y != y_predict)"
   ]
  },
  {
   "cell_type": "code",
   "execution_count": 13,
   "metadata": {},
   "outputs": [
    {
     "data": {
      "image/png": "[encoded data removed]",
      "text/plain": [
       "<matplotlib.figure.Figure at 0x7fcb48d0ad90>"
      ]
     },
     "metadata": {},
     "output_type": "display_data"
    }
   ],
   "source": [
    "# Plotting 30 random examples from X with their predicted labels\n",
    "indices = np.random.randint(0,m,30)\n",
    "\n",
    "fig = plt.figure(figsize = (9,6))\n",
    "\n",
    "for i in range (30):\n",
    "    img = X[indices[i],1:].reshape(20,20,order='F')\n",
    "    fig.add_subplot(5,6,i+1)    \n",
    "    plt.title(y_predict[indices[i]])\n",
    "    plt.imshow(img,cmap='gray')\n",
    "    plt.axis(\"off\")\n",
    "\n",
    "plt.subplots_adjust(hspace = 0.5)    \n",
    "plt.show()"
   ]
  },
  {
   "cell_type": "code",
   "execution_count": null,
   "metadata": {
    "collapsed": true
   },
   "outputs": [],
   "source": []
  }
 ],
 "metadata": {
  "kernelspec": {
   "display_name": "Python 2",
   "language": "python",
   "name": "python2"
  },
  "language_info": {
   "codemirror_mode": {
    "name": "ipython",
    "version": 2
   },
   "file_extension": ".py",
   "mimetype": "text/x-python",
   "name": "python",
   "nbconvert_exporter": "python",
   "pygments_lexer": "ipython2",
   "version": "2.7.14"
  }
 },
 "nbformat": 4,
 "nbformat_minor": 2
}
