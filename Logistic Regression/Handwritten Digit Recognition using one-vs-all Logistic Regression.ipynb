{
 "cells": [
  {
   "cell_type": "code",
   "execution_count": 1,
   "metadata": {},
   "outputs": [],
   "source": [
    "import numpy as np\n",
    "import matplotlib.pyplot as plt\n",
    "from scipy.optimize import minimize\n",
    "from scipy.special import expit as sigmoid"
   ]
  },
  {
   "cell_type": "code",
   "execution_count": 2,
   "metadata": {},
   "outputs": [
    {
     "data": {
      "text/plain": [
       "['labels', 'data']"
      ]
     },
     "execution_count": 2,
     "metadata": {},
     "output_type": "execute_result"
    }
   ],
   "source": [
    "# Loading data stored in numpy format\n",
    "Data = np.load(\"Handwritten_data.npz\")\n",
    "Data.files"
   ]
  },
  {
   "cell_type": "code",
   "execution_count": 3,
   "metadata": {
    "scrolled": true
   },
   "outputs": [
    {
     "data": {
      "text/plain": [
       "((5000, 401), 10)"
      ]
     },
     "execution_count": 3,
     "metadata": {},
     "output_type": "execute_result"
    }
   ],
   "source": [
    "y = Data['labels']\n",
    "m = y.size \n",
    "X = Data['data']\n",
    "# Adding the columns of one for the intercept \n",
    "X = np.c_[np.ones(m),X]\n",
    "\n",
    "num_labels = np.unique(y).size\n",
    "X.shape,num_labels"
   ]
  },
  {
   "cell_type": "code",
   "execution_count": 120,
   "metadata": {},
   "outputs": [
    {
     "data": {
      "image/png": "[encoded data removed]",
      "text/plain": [
       "<matplotlib.figure.Figure at 0x7f069717b950>"
      ]
     },
     "metadata": {},
     "output_type": "display_data"
    }
   ],
   "source": [
    "# Plotting 30 random examples from X\n",
    "indices = np.random.randint(0,m,30)\n",
    "\n",
    "fig=plt.figure()\n",
    "for i in range (30):\n",
    "    img = X[indices[i],1:].reshape(20,20,order='F')\n",
    "    fig.add_subplot(5,6,i+1)\n",
    "    plt.imshow(img,cmap='gray')\n",
    "    plt.axis(\"off\")"
   ]
  },
  {
   "cell_type": "code",
   "execution_count": 5,
   "metadata": {},
   "outputs": [],
   "source": [
    "# Cost Function and Gradient for Regularized Logistic Regression\n",
    "# Note : We do not regularize Theta[0] (bias term)\n",
    "def costFunction(t,X,y,lamb):\n",
    "    m = np.size(y)\n",
    "    J =  (-1.0/m)*np.sum((y*np.log(sigmoid(X.dot(t))) + (1-y) * np.log(1-sigmoid(X.dot(t))))) + (\n",
    "         (lamb/(2.0*m)) * sum(t[1:] **2 ))            # Exclude t[0] (bias term)\n",
    "    grad = (1.0/m)*((X.T).dot(sigmoid(X.dot(t))-y))\n",
    "    grad[1:] = grad[1:] + (float(lamb)/m)* t[1:]     # Exclude t[0] (bias term)              \n",
    "    \n",
    "    \n",
    "    return J,grad  "
   ]
  },
  {
   "cell_type": "code",
   "execution_count": 6,
   "metadata": {},
   "outputs": [
    {
     "name": "stdout",
     "output_type": "stream",
     "text": [
      "Cost:  2.534819396109744\n",
      "Gradient: \n",
      "[ 0.14656137 -0.54855841  0.72472227  1.39800296]\n"
     ]
    }
   ],
   "source": [
    "# Computing the Cost and Gradient on sample values\n",
    "theta_t = np.array([-2,-1,1,2])\n",
    "X_t = np.hstack((np.ones((5,1)),np.arange(1,16).reshape(5,3,order='F')/10.0))\n",
    "y_t = np.array([1,0,1,0,1])\n",
    "lamb_t = 3\n",
    "J,G = costFunction(theta_t,X_t,y_t,lamb_t)\n",
    "print \"Cost: \", J\n",
    "print \"Gradient: \"\n",
    "print G"
   ]
  },
  {
   "cell_type": "code",
   "execution_count": 174,
   "metadata": {},
   "outputs": [],
   "source": [
    "# Optimizing the parameters theta using scipy.optimize \n",
    "def find_min(init_theta,X,y,lamb):\n",
    "    res = minimize(costFunction,init_theta,args=(X,y,lamb),method = 'CG',jac = True\n",
    "               ,options={'maxiter':200,'disp':True})  \n",
    "    return res.x"
   ]
  },
  {
   "cell_type": "code",
   "execution_count": 175,
   "metadata": {},
   "outputs": [],
   "source": [
    "# oneVsAll trains multiple logistic regression classifiers and returns all\n",
    "# the classifiers in a matrix theta_mat, where the i-th row of theta_mat \n",
    "# corresponds to the classifier for label i\n",
    "def oneVsAll(X,y,num_labels,lamb):\n",
    "    m,n = X.shape\n",
    "    theta_mat = np.empty([num_labels,n])\n",
    "    for i in range(num_labels):\n",
    "        print \"Label: %s\" % i \n",
    "        y_temp = (y == i).astype(int)\n",
    "        init_theta = np.zeros(n)\n",
    "        init_theta = find_min(init_theta,X,y_temp,lamb)\n",
    "        theta_mat[i,:] = init_theta\n",
    "    return theta_mat\n",
    "        "
   ]
  },
  {
   "cell_type": "code",
   "execution_count": 176,
   "metadata": {},
   "outputs": [
    {
     "name": "stdout",
     "output_type": "stream",
     "text": [
      "Label: 0\n",
      "Optimization terminated successfully.\n",
      "         Current function value: 0.008579\n",
      "         Iterations: 100\n",
      "         Function evaluations: 387\n",
      "         Gradient evaluations: 387\n",
      "Label: 1\n",
      "Optimization terminated successfully.\n",
      "         Current function value: 0.013126\n",
      "         Iterations: 99\n",
      "         Function evaluations: 376\n",
      "         Gradient evaluations: 376\n",
      "Label: 2\n",
      "Warning: Maximum number of iterations has been exceeded.\n",
      "         Current function value: 0.050835\n",
      "         Iterations: 200\n",
      "         Function evaluations: 618\n",
      "         Gradient evaluations: 618\n",
      "Label: 3\n",
      "Warning: Maximum number of iterations has been exceeded.\n",
      "         Current function value: 0.057615\n",
      "         Iterations: 200\n",
      "         Function evaluations: 591\n",
      "         Gradient evaluations: 591\n",
      "Label: 4\n",
      "Optimization terminated successfully.\n",
      "         Current function value: 0.033078\n",
      "         Iterations: 172\n",
      "         Function evaluations: 571\n",
      "         Gradient evaluations: 571\n",
      "Label: 5\n",
      "Warning: Maximum number of iterations has been exceeded.\n",
      "         Current function value: 0.054503\n",
      "         Iterations: 200\n",
      "         Function evaluations: 600\n",
      "         Gradient evaluations: 600\n",
      "Label: 6\n",
      "Optimization terminated successfully.\n",
      "         Current function value: 0.018271\n",
      "         Iterations: 123\n",
      "         Function evaluations: 446\n",
      "         Gradient evaluations: 446\n",
      "Label: 7\n",
      "Warning: Maximum number of iterations has been exceeded.\n",
      "         Current function value: 0.030652\n",
      "         Iterations: 200\n",
      "         Function evaluations: 668\n",
      "         Gradient evaluations: 668\n",
      "Label: 8\n",
      "Warning: Maximum number of iterations has been exceeded.\n",
      "         Current function value: 0.078541\n",
      "         Iterations: 200\n",
      "         Function evaluations: 539\n",
      "         Gradient evaluations: 539\n",
      "Label: 9\n",
      "Warning: Maximum number of iterations has been exceeded.\n",
      "         Current function value: 0.071293\n",
      "         Iterations: 200\n",
      "         Function evaluations: 562\n",
      "         Gradient evaluations: 562\n"
     ]
    }
   ],
   "source": [
    "# Training One-vs-All Logistic Regression\n",
    "lamb = 0.1\n",
    "theta_mat = oneVsAll(X,y,num_labels,lamb)"
   ]
  },
  {
   "cell_type": "code",
   "execution_count": 177,
   "metadata": {},
   "outputs": [],
   "source": [
    "# Predicting labels \n",
    "def predictOneVsAll(X,theta_mat):\n",
    "    \n",
    "    temp = sigmoid(X.dot(theta_mat.T))\n",
    "    label = np.argmax(temp,axis = 1)\n",
    "    return label"
   ]
  },
  {
   "cell_type": "code",
   "execution_count": 178,
   "metadata": {},
   "outputs": [
    {
     "name": "stdout",
     "output_type": "stream",
     "text": [
      "Accuracy on the Training Set 96.44 %\n",
      "Logistic Regression made errors in predicting 178 samples out of 5000 in the training set \n"
     ]
    }
   ],
   "source": [
    "# Predicting Accuracy on the training set\n",
    "y_predict = predictOneVsAll(X,theta_mat)\n",
    "accuracy = np.mean(y == y_predict) *100\n",
    "print \"Accuracy on the Training Set %s %%\" % round(accuracy,2)\n",
    "print \"Logistic Regression made errors in predicting %s samples out of 5000 in the training set \" % np.count_nonzero(y != y_predict)"
   ]
  },
  {
   "cell_type": "code",
   "execution_count": 179,
   "metadata": {},
   "outputs": [
    {
     "data": {
      "image/png": "[encoded data removed]",
      "text/plain": [
       "<matplotlib.figure.Figure at 0x7f06a0380f10>"
      ]
     },
     "metadata": {},
     "output_type": "display_data"
    }
   ],
   "source": [
    "# Plotting 30 random examples from X with their predicted labels\n",
    "indices = np.random.randint(0,m,30)\n",
    "\n",
    "fig = plt.figure(figsize = (9,6))\n",
    "\n",
    "for i in range (30):\n",
    "    img = X[indices[i],1:].reshape(20,20,order='F')\n",
    "    fig.add_subplot(5,6,i+1)    \n",
    "    plt.title(y_predict[indices[i]])\n",
    "    plt.imshow(img,cmap='gray')\n",
    "    plt.axis(\"off\")\n",
    "\n",
    "plt.subplots_adjust(hspace = 0.5)    "
   ]
  },
  {
   "cell_type": "code",
   "execution_count": null,
   "metadata": {},
   "outputs": [],
   "source": []
  }
 ],
 "metadata": {
  "kernelspec": {
   "display_name": "Python 2",
   "language": "python",
   "name": "python2"
  },
  "language_info": {
   "codemirror_mode": {
    "name": "ipython",
    "version": 2
   },
   "file_extension": ".py",
   "mimetype": "text/x-python",
   "name": "python",
   "nbconvert_exporter": "python",
   "pygments_lexer": "ipython2",
   "version": "2.7.14"
  }
 },
 "nbformat": 4,
 "nbformat_minor": 2
}
