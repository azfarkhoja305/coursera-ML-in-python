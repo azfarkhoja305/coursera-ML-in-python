{
 "cells": [
  {
   "cell_type": "code",
   "execution_count": 1,
   "metadata": {
    "collapsed": true
   },
   "outputs": [],
   "source": [
    "import numpy as np\n",
    "import matplotlib.pyplot as plt\n",
    "from scipy.optimize import minimize\n",
    "from scipy.special import expit as sigmoid"
   ]
  },
  {
   "cell_type": "code",
   "execution_count": 2,
   "metadata": {},
   "outputs": [
    {
     "data": {
      "text/plain": [
       "['labels', 'data']"
      ]
     },
     "execution_count": 2,
     "metadata": {},
     "output_type": "execute_result"
    }
   ],
   "source": [
    "# Load data stored in numpy format\n",
    "Data = np.load(\"Handwritten_data2.npz\")\n",
    "Data.files"
   ]
  },
  {
   "cell_type": "code",
   "execution_count": 3,
   "metadata": {},
   "outputs": [
    {
     "data": {
      "text/plain": [
       "(5000, 400)"
      ]
     },
     "execution_count": 3,
     "metadata": {},
     "output_type": "execute_result"
    }
   ],
   "source": [
    "y = Data['labels']\n",
    "m = y.size\n",
    "X = Data['data']\n",
    "X.shape"
   ]
  },
  {
   "cell_type": "code",
   "execution_count": 4,
   "metadata": {},
   "outputs": [
    {
     "data": {
      "text/plain": [
       "10"
      ]
     },
     "execution_count": 4,
     "metadata": {},
     "output_type": "execute_result"
    }
   ],
   "source": [
    "# Neural Network Parameters\n",
    "ip_size = 400 \n",
    "hidden_size = 25\n",
    "num_labels = np.unique(y).size\n",
    "num_labels"
   ]
  },
  {
   "cell_type": "code",
   "execution_count": 5,
   "metadata": {},
   "outputs": [
    {
     "data": {
      "image/png": "[encoded data removed]",
      "text/plain": [
       "<matplotlib.figure.Figure at 0x7fc17d9ef890>"
      ]
     },
     "metadata": {},
     "output_type": "display_data"
    }
   ],
   "source": [
    "# Plotting 30 random examples from X\n",
    "indices = np.random.randint(0,m,30)\n",
    "\n",
    "fig = plt.figure()\n",
    "for i in range (30):\n",
    "    img = X[indices[i]].reshape(20,20,order='F')\n",
    "    fig.add_subplot(5,6,i+1)\n",
    "    plt.imshow(img,cmap='gray')\n",
    "    plt.axis(\"off\")\n",
    "\n",
    "plt.show()"
   ]
  },
  {
   "cell_type": "code",
   "execution_count": 6,
   "metadata": {
    "scrolled": true
   },
   "outputs": [
    {
     "data": {
      "text/plain": [
       "((25, 401), (10, 26))"
      ]
     },
     "execution_count": 6,
     "metadata": {},
     "output_type": "execute_result"
    }
   ],
   "source": [
    "# Loading the pre-intialized NN parameters\n",
    "# These will be used to verify the functioning of the Cost Function\n",
    "Weights = np.load('tempWeights.npz')\n",
    "Theta1 = Weights['Theta1']\n",
    "Theta2 = Weights['Theta2']\n",
    "# Unrolling the parameters into a vector\n",
    "temp_params = np.append(Theta1,Theta2)\n",
    "Theta1.shape,Theta2.shape"
   ]
  },
  {
   "cell_type": "code",
   "execution_count": 7,
   "metadata": {
    "collapsed": true
   },
   "outputs": [],
   "source": [
    "# Sigmoid Gradient function\n",
    "def sigmoid_grad(x):\n",
    "    g = sigmoid(x)\n",
    "    return (g*(1-g))\n",
    "    "
   ]
  },
  {
   "cell_type": "code",
   "execution_count": 8,
   "metadata": {},
   "outputs": [
    {
     "data": {
      "text/plain": [
       "array([ 0.19661193,  0.23500371,  0.25      ,  0.23500371,  0.19661193])"
      ]
     },
     "execution_count": 8,
     "metadata": {},
     "output_type": "execute_result"
    }
   ],
   "source": [
    "# Evaluating Sigmoid Gradient\n",
    "sigmoid_grad([-1,-0.5,0,0.5,1])"
   ]
  },
  {
   "cell_type": "code",
   "execution_count": 9,
   "metadata": {
    "collapsed": true
   },
   "outputs": [],
   "source": [
    "# Cost Function and Gradients\n",
    "# Feedforward the neural network and return the cost in variable J\n",
    "\n",
    "def costFunction(nn_params,i_size,h_size,labels,X,y,lamb):\n",
    "    m = X.shape[0]\n",
    "    # Reshaping the Parameters\n",
    "    Theta1 = nn_params[:h_size*(i_size +1)].reshape(h_size,i_size+1)\n",
    "    Theta2 = nn_params[h_size*(i_size +1):].reshape(labels,h_size+1)\n",
    "    # For training a NN we recode the labels as vectors containing\n",
    "    # only 0 or 1 values\n",
    "    eye_mat = np.eye(labels)\n",
    "    y_mat = eye_mat[:,y]\n",
    "    \n",
    "    # Forward Propagation\n",
    "    X = np.c_[np.ones(m),X]\n",
    "    z2 = X.dot(Theta1.T)\n",
    "    a2 = sigmoid(z2)\n",
    "    a2 = np.c_[np.ones(m),a2]\n",
    "    z3 = a2.dot(Theta2.T)\n",
    "    a3 = sigmoid(z3)\n",
    "    h = a3.T\n",
    "    \n",
    "    # Calculating the cost\n",
    "    J = (-1.0/m)*np.sum(y_mat*np.log(h) + (1-y_mat)*np.log(1-h))\n",
    "    # Adding Regularization Term (Not considering terms that correspond to bias)\n",
    "    J = J + (lamb/(2.0*m)) * (np.sum(Theta1[:,1:]**2)+ np.sum(Theta2[:,1:]**2))\n",
    "    \n",
    "    # Backpropagation\n",
    "    delta3 = h-y_mat\n",
    "    delta2 = ((Theta2[:,1:].T).dot(delta3)) * sigmoid_grad(z2.T)\n",
    "    Acc_D2 = delta3.dot(a2)\n",
    "    Acc_D1 = delta2.dot(X)\n",
    "    \n",
    "    # Gradients\n",
    "    Theta2_grad = (1.0/m) * Acc_D2 \n",
    "    Theta1_grad = (1.0/m) * Acc_D1\n",
    "    # Adding Regularization Term (Not considering terms that correspond to bias)\n",
    "    reg_term2 = np.c_[np.zeros(Theta2.shape[0]),Theta2[:,1:]]\n",
    "    Theta2_grad = Theta2_grad + (lamb/float(m)) * reg_term2\n",
    "    \n",
    "    reg_term1 = np.c_[np.zeros(Theta1.shape[0]),Theta1[:,1:]]\n",
    "    Theta1_grad = Theta1_grad + (lamb/float(m)) * reg_term1\n",
    "    \n",
    "    # Unrolling the gradients into a vector\n",
    "    grad = np.append(Theta1_grad,Theta2_grad)\n",
    "    \n",
    "    return J,grad"
   ]
  },
  {
   "cell_type": "code",
   "execution_count": 10,
   "metadata": {},
   "outputs": [
    {
     "name": "stdout",
     "output_type": "stream",
     "text": [
      "10.4414596728\n",
      "[ 0.02797359  0.          0.         ...,  0.00552226  0.05182065\n",
      "  0.00126207]\n"
     ]
    }
   ],
   "source": [
    "# Cost and Grad with lambda = 0\n",
    "J,G = costFunction(temp_params,ip_size,hidden_size,num_labels,X,y,0)\n",
    "print J\n",
    "print G"
   ]
  },
  {
   "cell_type": "code",
   "execution_count": 11,
   "metadata": {},
   "outputs": [
    {
     "name": "stdout",
     "output_type": "stream",
     "text": [
      "10.5376003667\n",
      "[  2.79735891e-02  -2.11248326e-12   4.38829369e-13 ...,   5.47270560e-03\n",
      "   5.20766639e-02   9.96564573e-04]\n"
     ]
    }
   ],
   "source": [
    "# Cost and Grad with lambda = 1\n",
    "args = ip_size,hidden_size,num_labels,X,y,1\n",
    "J,G = costFunction(temp_params,*args)\n",
    "print J\n",
    "print G\n"
   ]
  },
  {
   "cell_type": "code",
   "execution_count": 12,
   "metadata": {
    "collapsed": true
   },
   "outputs": [],
   "source": [
    "# Computing Gradient using Numerical Computation\n",
    "def numgrad(theta,args):\n",
    "    m = theta.size\n",
    "    epsilon = 1e-4\n",
    "    numgrad = np.zeros(m)\n",
    "    perturb = np.zeros(m)\n",
    "    for i in range(m):\n",
    "        perturb[i] = epsilon\n",
    "        loss1 = costFunction((theta-perturb),*args)[0] \n",
    "        loss2 = costFunction((theta+perturb),*args)[0]\n",
    "        numgrad[i] = (loss2-loss1)/(2*epsilon);\n",
    "        perturb[i]=0\n",
    "    return numgrad"
   ]
  },
  {
   "cell_type": "code",
   "execution_count": 13,
   "metadata": {
    "collapsed": true
   },
   "outputs": [],
   "source": [
    "# Initialize the weights of a layer with fan_in incoming connections and fan_out outgoing connections\n",
    "# using a fixed strategy, this will help in debugging\n",
    "def debugInitialWeights(fan_out,fan_in):\n",
    "    W = np.zeros((fan_out,fan_in +1))\n",
    "    W =(np.sin(np.arange(1,W.size+1))/10).reshape(W.shape)\n",
    "    return W  "
   ]
  },
  {
   "cell_type": "code",
   "execution_count": 14,
   "metadata": {
    "collapsed": true
   },
   "outputs": [],
   "source": [
    "# checkNNGradients  Creates a small neural network to check the backpropagation gradients\n",
    "# It will output the analytical gradients produced by your backprop code and the numerical gradients \n",
    "# (computed using numgrad). These two gradient computations should result in very similar values\n",
    "def checkNNGradients(lamb):\n",
    "    i_size = 3; h_size = 3 ;num_labels = 3; m = 5\n",
    "    # Generating random data\n",
    "    Theta1 = debugInitialWeights(h_size,i_size)\n",
    "    Theta2 = debugInitialWeights(num_labels,h_size)\n",
    "    X = debugInitialWeights(m,i_size-1)\n",
    "    y = np.mod(np.arange(m),num_labels)\n",
    "    # Unroll parameters\n",
    "    nn_params = np.append(Theta1,Theta2)\n",
    "    \n",
    "    args = i_size,h_size,num_labels,X,y,lamb\n",
    "    G1 = costFunction(nn_params,*args)[1]\n",
    "    G2 = numgrad(nn_params,args)\n",
    "    print \"The two columns below should be very similar\"\n",
    "    print \"(Left-Backprop Gradients, Right-Numerical Gradient)\"\n",
    "    print np.c_[G1[:,np.newaxis],G2[:,np.newaxis]]\n",
    "    print \"The difference is less than 1e-9: %s\" % np.allclose(G1,G2,rtol=1e-9,atol=1e-9)\n",
    "    "
   ]
  },
  {
   "cell_type": "code",
   "execution_count": 15,
   "metadata": {},
   "outputs": [
    {
     "name": "stdout",
     "output_type": "stream",
     "text": [
      "The two columns below should be very similar\n",
      "(Left-Backprop Gradients, Right-Numerical Gradient)\n",
      "[[ -1.67407607e-03  -1.67407607e-03]\n",
      " [  2.01559293e-05   2.01559280e-05]\n",
      " [  3.49877111e-04   3.49877107e-04]\n",
      " [  3.57922891e-04   3.57922894e-04]\n",
      " [ -5.13333018e-03  -5.13333017e-03]\n",
      " [  3.90290328e-04   3.90290325e-04]\n",
      " [  4.49087678e-04   4.49087676e-04]\n",
      " [  9.49958883e-05   9.49958867e-05]\n",
      " [ -3.88117379e-03  -3.88117379e-03]\n",
      " [  4.02480309e-04   4.02480309e-04]\n",
      " [  1.36027964e-04   1.36027964e-04]\n",
      " [ -2.55487864e-04  -2.55487869e-04]\n",
      " [  1.24904785e-01   1.24904785e-01]\n",
      " [  6.49053029e-02   6.49053029e-02]\n",
      " [  5.99422224e-02   5.99422224e-02]\n",
      " [  6.32813548e-02   6.32813547e-02]\n",
      " [  9.28155988e-02   9.28155988e-02]\n",
      " [  4.87480585e-02   4.87480585e-02]\n",
      " [  4.41460450e-02   4.41460450e-02]\n",
      " [  4.70247564e-02   4.70247564e-02]\n",
      " [  2.84472304e-01   2.84472304e-01]\n",
      " [  1.48101428e-01   1.48101428e-01]\n",
      " [  1.35184382e-01   1.35184382e-01]\n",
      " [  1.45593145e-01   1.45593145e-01]]\n",
      "The difference is less than 1e-9: True\n"
     ]
    }
   ],
   "source": [
    "# Checking Backprop w/o Regularization\n",
    "checkNNGradients(lamb = 0)"
   ]
  },
  {
   "cell_type": "code",
   "execution_count": 16,
   "metadata": {},
   "outputs": [
    {
     "name": "stdout",
     "output_type": "stream",
     "text": [
      "The two columns below should be very similar\n",
      "(Left-Backprop Gradients, Right-Numerical Gradient)\n",
      "[[-0.00167408 -0.00167408]\n",
      " [ 0.03639205  0.03639205]\n",
      " [ 0.00599468  0.00599468]\n",
      " [-0.02991418 -0.02991418]\n",
      " [-0.00513333 -0.00513333]\n",
      " [-0.01078633 -0.01078633]\n",
      " [ 0.02672855  0.02672855]\n",
      " [ 0.03966933  0.03966933]\n",
      " [-0.00388117 -0.00388117]\n",
      " [-0.02135836 -0.02135836]\n",
      " [-0.03986358 -0.03986358]\n",
      " [-0.0217184  -0.0217184 ]\n",
      " [ 0.12490479  0.12490479]\n",
      " [ 0.1012772   0.1012772 ]\n",
      " [ 0.06558702  0.06558702]\n",
      " [ 0.03300925  0.03300925]\n",
      " [ 0.0928156   0.0928156 ]\n",
      " [ 0.03757144  0.03757144]\n",
      " [ 0.07042551  0.07042551]\n",
      " [ 0.08659909  0.08659909]\n",
      " [ 0.2844723   0.2844723 ]\n",
      " [ 0.12634058  0.12634058]\n",
      " [ 0.09518477  0.09518477]\n",
      " [ 0.12413023  0.12413023]]\n",
      "The difference is less than 1e-9: True\n"
     ]
    }
   ],
   "source": [
    "# Checking Backprop with Regularization\n",
    "checkNNGradients(lamb = 2)"
   ]
  },
  {
   "cell_type": "code",
   "execution_count": 17,
   "metadata": {},
   "outputs": [
    {
     "data": {
      "text/plain": [
       "((25, 401), (10, 26))"
      ]
     },
     "execution_count": 17,
     "metadata": {},
     "output_type": "execute_result"
    }
   ],
   "source": [
    "# Random Intialization of weights for symmetry breaking\n",
    "e_init = np.sqrt(6)/np.sqrt(ip_size + num_labels)\n",
    "e_init=round(e_init,3)\n",
    "T1 = np.random.rand(hidden_size,ip_size+1) * 2*e_init-e_init\n",
    "T2 = np.random.rand(num_labels,hidden_size+1) * 2*e_init-e_init\n",
    "init_params = np.append(T1,T2)  \n",
    "T1.shape,T2.shape"
   ]
  },
  {
   "cell_type": "code",
   "execution_count": 18,
   "metadata": {
    "collapsed": true
   },
   "outputs": [],
   "source": [
    "# Optimizing the parameters theta using scipy.optimize \n",
    "def find_min(init_theta,par):\n",
    "    res = minimize(costFunction,init_theta,args=(par),method = 'CG',jac = True\n",
    "               ,options={'maxiter':300,'disp':True})  \n",
    "    return res.x\n"
   ]
  },
  {
   "cell_type": "code",
   "execution_count": 19,
   "metadata": {},
   "outputs": [
    {
     "name": "stdout",
     "output_type": "stream",
     "text": [
      "Warning: Maximum number of iterations has been exceeded.\n",
      "         Current function value: 0.317693\n",
      "         Iterations: 300\n",
      "         Function evaluations: 714\n",
      "         Gradient evaluations: 714\n",
      "CPU times: user 31.3 s, sys: 1.15 s, total: 32.4 s\n",
      "Wall time: 16.2 s\n"
     ]
    }
   ],
   "source": [
    "%%time\n",
    "# Training the NN\n",
    "lamb = 1\n",
    "par = ip_size,hidden_size,num_labels,X,y,lamb\n",
    "final_params = find_min(init_params,par)"
   ]
  },
  {
   "cell_type": "code",
   "execution_count": 20,
   "metadata": {
    "collapsed": true
   },
   "outputs": [],
   "source": [
    "# Obtaining Theta1_final and Theta2_final from final_params\n",
    "Theta1_final = final_params[:hidden_size*(ip_size +1)].reshape(hidden_size,ip_size+1)\n",
    "Theta2_final = final_params[hidden_size*(ip_size +1):].reshape(num_labels,hidden_size+1)"
   ]
  },
  {
   "cell_type": "code",
   "execution_count": 21,
   "metadata": {
    "collapsed": true
   },
   "outputs": [],
   "source": [
    "# Predict the labels\n",
    "def predict(Theta1,Theta2,X):\n",
    "    m = X.shape[0]\n",
    "    X = np.c_[np.ones(m),X]\n",
    "    z2 = X.dot(Theta1.T)\n",
    "    a2 = sigmoid(np.c_[np.ones(m),z2])\n",
    "    z3 = a2.dot(Theta2.T)\n",
    "    h = sigmoid(z3)\n",
    "    p = np.argmax(h,1)\n",
    "    return p "
   ]
  },
  {
   "cell_type": "code",
   "execution_count": 22,
   "metadata": {},
   "outputs": [
    {
     "name": "stdout",
     "output_type": "stream",
     "text": [
      "Accuracy on the Training Set 99.52 %\n",
      "NN made errors in predicting 24 samples out of 5000 in the training set \n"
     ]
    }
   ],
   "source": [
    "# Getting Accuracy on the Training Set\n",
    "y_pred = predict(Theta1_final,Theta2_final,X)\n",
    "accuracy = np.mean(y_pred == y)*100\n",
    "print \"Accuracy on the Training Set %s %%\" % round(accuracy,2)\n",
    "print \"NN made errors in predicting %s samples out of 5000 in the training set \" % np.count_nonzero(y != y_pred)"
   ]
  },
  {
   "cell_type": "code",
   "execution_count": 23,
   "metadata": {},
   "outputs": [
    {
     "data": {
      "image/png": "[encoded data removed]",
      "text/plain": [
       "<matplotlib.figure.Figure at 0x7fc173e61b50>"
      ]
     },
     "metadata": {},
     "output_type": "display_data"
    }
   ],
   "source": [
    "# Plotting 30 random examples from X with their predicted labels\n",
    "indices = np.random.randint(0,m,30)\n",
    "fig = plt.figure(figsize = (9,6))\n",
    "\n",
    "for i in range (30):\n",
    "    img = X[indices[i]].reshape(20,20,order='F')\n",
    "    fig.add_subplot(5,6,i+1)    \n",
    "    plt.title(y_pred[indices[i]])\n",
    "    plt.imshow(img,cmap='gray')\n",
    "    plt.axis(\"off\")\n",
    "\n",
    "plt.subplots_adjust(hspace = 0.5)    \n",
    "plt.show()"
   ]
  },
  {
   "cell_type": "code",
   "execution_count": 24,
   "metadata": {
    "scrolled": true
   },
   "outputs": [
    {
     "data": {
      "image/png": "[encoded data removed]",
      "text/plain": [
       "<matplotlib.figure.Figure at 0x7fc173e61cd0>"
      ]
     },
     "metadata": {},
     "output_type": "display_data"
    }
   ],
   "source": [
    "# Visualizing what each hidden unit is detecting\n",
    "fig = plt.figure(figsize = (9,6))\n",
    "for i in range(0,hidden_size):\n",
    "    pixels = Theta1_final[i,1:]\n",
    "    pixels = pixels.reshape(20,20)\n",
    "    fig.add_subplot(5,5,i+1)\n",
    "    plt.imshow(pixels,cmap='gray')\n",
    "    plt.axis(\"off\")\n",
    "    \n",
    "plt.show()\n",
    "    "
   ]
  },
  {
   "cell_type": "code",
   "execution_count": null,
   "metadata": {
    "collapsed": true
   },
   "outputs": [],
   "source": []
  }
 ],
 "metadata": {
  "kernelspec": {
   "display_name": "Python 2",
   "language": "python",
   "name": "python2"
  },
  "language_info": {
   "codemirror_mode": {
    "name": "ipython",
    "version": 2
   },
   "file_extension": ".py",
   "mimetype": "text/x-python",
   "name": "python",
   "nbconvert_exporter": "python",
   "pygments_lexer": "ipython2",
   "version": "2.7.14"
  }
 },
 "nbformat": 4,
 "nbformat_minor": 2
}
